{
 "cells": [
  {
   "cell_type": "code",
   "execution_count": 57,
   "metadata": {},
   "outputs": [],
   "source": [
    "#import the required libraries\n",
    "import pandas as pd\n",
    "import seaborn as sns\n",
    "import matplotlib.pyplot as plt\n",
    "#Set the style as seaborn\n",
    "#Same as plt.style.use('seaborn')\n",
    "#plt.style.use('seaborn-whitegrid')\n",
    "sns.set()\n",
    "%matplotlib inline\n",
    "import numpy as np"
   ]
  },
  {
   "cell_type": "code",
   "execution_count": 58,
   "metadata": {},
   "outputs": [],
   "source": [
    "#Read the data.csv file which contains the data\n",
    "#Parse the column 'Date' as date\n",
    "df = pd.read_csv('data.csv', parse_dates=['Date'])"
   ]
  },
  {
   "cell_type": "code",
   "execution_count": 59,
   "metadata": {},
   "outputs": [
    {
     "name": "stdout",
     "output_type": "stream",
     "text": [
      "<class 'pandas.core.frame.DataFrame'>\n",
      "RangeIndex: 3441197 entries, 0 to 3441196\n",
      "Data columns (total 7 columns):\n",
      "Position      int64\n",
      "Track Name    object\n",
      "Artist        object\n",
      "Streams       int64\n",
      "URL           object\n",
      "Date          datetime64[ns]\n",
      "Region        object\n",
      "dtypes: datetime64[ns](1), int64(2), object(4)\n",
      "memory usage: 183.8+ MB\n"
     ]
    }
   ],
   "source": [
    "#Check the data\n",
    "df.info()"
   ]
  },
  {
   "cell_type": "code",
   "execution_count": 60,
   "metadata": {},
   "outputs": [
    {
     "data": {
      "text/html": [
       "<div>\n",
       "<style>\n",
       "    .dataframe thead tr:only-child th {\n",
       "        text-align: right;\n",
       "    }\n",
       "\n",
       "    .dataframe thead th {\n",
       "        text-align: left;\n",
       "    }\n",
       "\n",
       "    .dataframe tbody tr th {\n",
       "        vertical-align: top;\n",
       "    }\n",
       "</style>\n",
       "<table border=\"1\" class=\"dataframe\">\n",
       "  <thead>\n",
       "    <tr style=\"text-align: right;\">\n",
       "      <th></th>\n",
       "      <th>Position</th>\n",
       "      <th>Track Name</th>\n",
       "      <th>Artist</th>\n",
       "      <th>Streams</th>\n",
       "      <th>URL</th>\n",
       "      <th>Date</th>\n",
       "      <th>Region</th>\n",
       "    </tr>\n",
       "  </thead>\n",
       "  <tbody>\n",
       "    <tr>\n",
       "      <th>0</th>\n",
       "      <td>1</td>\n",
       "      <td>Reggaetón Lento (Bailemos)</td>\n",
       "      <td>CNCO</td>\n",
       "      <td>19272</td>\n",
       "      <td>https://open.spotify.com/track/3AEZUABDXNtecAO...</td>\n",
       "      <td>2017-01-01</td>\n",
       "      <td>ec</td>\n",
       "    </tr>\n",
       "    <tr>\n",
       "      <th>1</th>\n",
       "      <td>2</td>\n",
       "      <td>Chantaje</td>\n",
       "      <td>Shakira</td>\n",
       "      <td>19270</td>\n",
       "      <td>https://open.spotify.com/track/6mICuAdrwEjh6Y6...</td>\n",
       "      <td>2017-01-01</td>\n",
       "      <td>ec</td>\n",
       "    </tr>\n",
       "    <tr>\n",
       "      <th>2</th>\n",
       "      <td>3</td>\n",
       "      <td>Otra Vez (feat. J Balvin)</td>\n",
       "      <td>Zion &amp; Lennox</td>\n",
       "      <td>15761</td>\n",
       "      <td>https://open.spotify.com/track/3QwBODjSEzelZyV...</td>\n",
       "      <td>2017-01-01</td>\n",
       "      <td>ec</td>\n",
       "    </tr>\n",
       "    <tr>\n",
       "      <th>3</th>\n",
       "      <td>4</td>\n",
       "      <td>Vente Pa' Ca</td>\n",
       "      <td>Ricky Martin</td>\n",
       "      <td>14954</td>\n",
       "      <td>https://open.spotify.com/track/7DM4BPaS7uofFul...</td>\n",
       "      <td>2017-01-01</td>\n",
       "      <td>ec</td>\n",
       "    </tr>\n",
       "  </tbody>\n",
       "</table>\n",
       "</div>"
      ],
      "text/plain": [
       "   Position                  Track Name         Artist  Streams  \\\n",
       "0         1  Reggaetón Lento (Bailemos)           CNCO    19272   \n",
       "1         2                    Chantaje        Shakira    19270   \n",
       "2         3   Otra Vez (feat. J Balvin)  Zion & Lennox    15761   \n",
       "3         4                Vente Pa' Ca   Ricky Martin    14954   \n",
       "\n",
       "                                                 URL       Date Region  \n",
       "0  https://open.spotify.com/track/3AEZUABDXNtecAO... 2017-01-01     ec  \n",
       "1  https://open.spotify.com/track/6mICuAdrwEjh6Y6... 2017-01-01     ec  \n",
       "2  https://open.spotify.com/track/3QwBODjSEzelZyV... 2017-01-01     ec  \n",
       "3  https://open.spotify.com/track/7DM4BPaS7uofFul... 2017-01-01     ec  "
      ]
     },
     "execution_count": 60,
     "metadata": {},
     "output_type": "execute_result"
    }
   ],
   "source": [
    "#Output the first four rows\n",
    "df[:4]"
   ]
  },
  {
   "cell_type": "code",
   "execution_count": 62,
   "metadata": {},
   "outputs": [
    {
     "data": {
      "text/plain": [
       "Shape of You                          3639\n",
       "Despacito - Remix                     2342\n",
       "rockstar                              1690\n",
       "Despacito (Featuring Daddy Yankee)    1560\n",
       "Mi Gente                              1180\n",
       "Felices los 4                          818\n",
       "Criminal                               416\n",
       "Look What You Made Me Do               299\n",
       "Me Rehúso                              291\n",
       "Sensualidad                            289\n",
       "Name: Track Name, dtype: int64"
      ]
     },
     "execution_count": 62,
     "metadata": {},
     "output_type": "execute_result"
    }
   ],
   "source": [
    "#Get the top ten songs\n",
    "#which occupied the most times position 1\n",
    "top_10_songs_by_position = df[df['Position'] == 1]['Track Name'].value_counts()[:10]\n",
    "top_10_songs_by_position"
   ]
  },
  {
   "cell_type": "code",
   "execution_count": 64,
   "metadata": {},
   "outputs": [
    {
     "data": {
      "text/plain": [
       "<matplotlib.axes._subplots.AxesSubplot at 0x1d1a58bff60>"
      ]
     },
     "execution_count": 64,
     "metadata": {},
     "output_type": "execute_result"
    },
    {
     "data": {
      "image/png": "[encoded data removed]",
      "text/plain": [
       "<matplotlib.figure.Figure at 0x1d1a58bde48>"
      ]
     },
     "metadata": {},
     "output_type": "display_data"
    }
   ],
   "source": [
    "#plot a simple barplot to visualize the above statement\n",
    "plt.ylabel('Track Name')\n",
    "plt.xlabel('Count in Position 1')\n",
    "plt.title('Top 10 songs by position')\n",
    "sns.barplot(x=top_10_songs_by_position.values, y=top_10_songs_by_position.index)"
   ]
  },
  {
   "cell_type": "code",
   "execution_count": 65,
   "metadata": {},
   "outputs": [],
   "source": [
    "#get top 10 songs based on streams in a single day"
   ]
  },
  {
   "cell_type": "code",
   "execution_count": 66,
   "metadata": {},
   "outputs": [
    {
     "data": {
      "text/html": [
       "<div>\n",
       "<style>\n",
       "    .dataframe thead tr:only-child th {\n",
       "        text-align: right;\n",
       "    }\n",
       "\n",
       "    .dataframe thead th {\n",
       "        text-align: left;\n",
       "    }\n",
       "\n",
       "    .dataframe tbody tr th {\n",
       "        vertical-align: top;\n",
       "    }\n",
       "</style>\n",
       "<table border=\"1\" class=\"dataframe\">\n",
       "  <thead>\n",
       "    <tr style=\"text-align: right;\">\n",
       "      <th></th>\n",
       "      <th>Position</th>\n",
       "      <th>Track Name</th>\n",
       "      <th>Artist</th>\n",
       "      <th>Streams</th>\n",
       "      <th>Date</th>\n",
       "    </tr>\n",
       "  </thead>\n",
       "  <tbody>\n",
       "    <tr>\n",
       "      <th>3145443</th>\n",
       "      <td>1</td>\n",
       "      <td>Despacito (Featuring Daddy Yankee)</td>\n",
       "      <td>Luis Fonsi</td>\n",
       "      <td>11381520</td>\n",
       "      <td>2017-05-27</td>\n",
       "    </tr>\n",
       "    <tr>\n",
       "      <th>3128643</th>\n",
       "      <td>1</td>\n",
       "      <td>Shape of You</td>\n",
       "      <td>Ed Sheeran</td>\n",
       "      <td>9891056</td>\n",
       "      <td>2017-03-03</td>\n",
       "    </tr>\n",
       "    <tr>\n",
       "      <th>3145643</th>\n",
       "      <td>1</td>\n",
       "      <td>Despacito (Featuring Daddy Yankee)</td>\n",
       "      <td>Luis Fonsi</td>\n",
       "      <td>9849173</td>\n",
       "      <td>2017-05-28</td>\n",
       "    </tr>\n",
       "    <tr>\n",
       "      <th>3128843</th>\n",
       "      <td>1</td>\n",
       "      <td>Shape of You</td>\n",
       "      <td>Ed Sheeran</td>\n",
       "      <td>9603434</td>\n",
       "      <td>2017-03-04</td>\n",
       "    </tr>\n",
       "    <tr>\n",
       "      <th>3129243</th>\n",
       "      <td>1</td>\n",
       "      <td>Shape of You</td>\n",
       "      <td>Ed Sheeran</td>\n",
       "      <td>8900049</td>\n",
       "      <td>2017-03-07</td>\n",
       "    </tr>\n",
       "    <tr>\n",
       "      <th>3129843</th>\n",
       "      <td>1</td>\n",
       "      <td>Shape of You</td>\n",
       "      <td>Ed Sheeran</td>\n",
       "      <td>8849461</td>\n",
       "      <td>2017-03-10</td>\n",
       "    </tr>\n",
       "    <tr>\n",
       "      <th>3129443</th>\n",
       "      <td>1</td>\n",
       "      <td>Shape of You</td>\n",
       "      <td>Ed Sheeran</td>\n",
       "      <td>8738426</td>\n",
       "      <td>2017-03-08</td>\n",
       "    </tr>\n",
       "    <tr>\n",
       "      <th>3129643</th>\n",
       "      <td>1</td>\n",
       "      <td>Shape of You</td>\n",
       "      <td>Ed Sheeran</td>\n",
       "      <td>8695555</td>\n",
       "      <td>2017-03-09</td>\n",
       "    </tr>\n",
       "    <tr>\n",
       "      <th>3130043</th>\n",
       "      <td>1</td>\n",
       "      <td>Shape of You</td>\n",
       "      <td>Ed Sheeran</td>\n",
       "      <td>8664792</td>\n",
       "      <td>2017-03-11</td>\n",
       "    </tr>\n",
       "    <tr>\n",
       "      <th>3145243</th>\n",
       "      <td>1</td>\n",
       "      <td>Despacito - Remix</td>\n",
       "      <td>Luis Fonsi</td>\n",
       "      <td>8525474</td>\n",
       "      <td>2017-05-26</td>\n",
       "    </tr>\n",
       "  </tbody>\n",
       "</table>\n",
       "</div>"
      ],
      "text/plain": [
       "         Position                          Track Name      Artist   Streams  \\\n",
       "3145443         1  Despacito (Featuring Daddy Yankee)  Luis Fonsi  11381520   \n",
       "3128643         1                        Shape of You  Ed Sheeran   9891056   \n",
       "3145643         1  Despacito (Featuring Daddy Yankee)  Luis Fonsi   9849173   \n",
       "3128843         1                        Shape of You  Ed Sheeran   9603434   \n",
       "3129243         1                        Shape of You  Ed Sheeran   8900049   \n",
       "3129843         1                        Shape of You  Ed Sheeran   8849461   \n",
       "3129443         1                        Shape of You  Ed Sheeran   8738426   \n",
       "3129643         1                        Shape of You  Ed Sheeran   8695555   \n",
       "3130043         1                        Shape of You  Ed Sheeran   8664792   \n",
       "3145243         1                   Despacito - Remix  Luis Fonsi   8525474   \n",
       "\n",
       "              Date  \n",
       "3145443 2017-05-27  \n",
       "3128643 2017-03-03  \n",
       "3145643 2017-05-28  \n",
       "3128843 2017-03-04  \n",
       "3129243 2017-03-07  \n",
       "3129843 2017-03-10  \n",
       "3129443 2017-03-08  \n",
       "3129643 2017-03-09  \n",
       "3130043 2017-03-11  \n",
       "3145243 2017-05-26  "
      ]
     },
     "execution_count": 66,
     "metadata": {},
     "output_type": "execute_result"
    }
   ],
   "source": [
    "top_10_by_streams_on_single_day = df.sort_values(by='Streams',ascending=False)[:10]\n",
    "top_10_by_streams_on_single_day[['Position','Track Name','Artist','Streams','Date']]"
   ]
  },
  {
   "cell_type": "code",
   "execution_count": 67,
   "metadata": {},
   "outputs": [],
   "source": [
    "#get top 10 songs based on streams from the overall data"
   ]
  },
  {
   "cell_type": "code",
   "execution_count": 68,
   "metadata": {},
   "outputs": [
    {
     "data": {
      "text/plain": [
       "Track Name\n",
       "Shape of You                          2993988783\n",
       "Despacito - Remix                     1829621841\n",
       "Despacito (Featuring Daddy Yankee)    1460802540\n",
       "Something Just Like This              1386258295\n",
       "Unforgettable                         1366919951\n",
       "HUMBLE.                               1311243745\n",
       "rockstar                              1260181617\n",
       "I'm the One                           1254196301\n",
       "It Ain't Me (with Selena Gomez)       1190339348\n",
       "XO TOUR Llif3                         1171827725\n",
       "Name: Streams, dtype: int64"
      ]
     },
     "execution_count": 68,
     "metadata": {},
     "output_type": "execute_result"
    }
   ],
   "source": [
    "top_10_songs_by_stream_overall = df.groupby('Track Name')['Streams'].sum().sort_values(ascending=False)[:10]\n",
    "top_10_songs_by_stream_overall"
   ]
  },
  {
   "cell_type": "code",
   "execution_count": 69,
   "metadata": {},
   "outputs": [],
   "source": [
    "#plot the above data"
   ]
  },
  {
   "cell_type": "code",
   "execution_count": 70,
   "metadata": {},
   "outputs": [
    {
     "data": {
      "text/plain": [
       "<matplotlib.axes._subplots.AxesSubplot at 0x1d181564c50>"
      ]
     },
     "execution_count": 70,
     "metadata": {},
     "output_type": "execute_result"
    },
    {
     "data": {
      "image/png": "[encoded data removed]",
      "text/plain": [
       "<matplotlib.figure.Figure at 0x1d181758588>"
      ]
     },
     "metadata": {},
     "output_type": "display_data"
    }
   ],
   "source": [
    "plt.title('Top 10 songs by streams overall')\n",
    "sns.barplot(x=top_10_songs_by_stream_overall.values, y=top_10_songs_by_stream_overall.index)"
   ]
  },
  {
   "cell_type": "code",
   "execution_count": 71,
   "metadata": {},
   "outputs": [],
   "source": [
    "#analyze the top two songs with the most streams\n",
    "analyze_top_songs = df.copy()"
   ]
  },
  {
   "cell_type": "code",
   "execution_count": 72,
   "metadata": {},
   "outputs": [
    {
     "data": {
      "text/plain": [
       "<matplotlib.axes._subplots.AxesSubplot at 0x1d181585eb8>"
      ]
     },
     "execution_count": 72,
     "metadata": {},
     "output_type": "execute_result"
    },
    {
     "data": {
      "image/png": "[encoded data removed]",
      "text/plain": [
       "<matplotlib.figure.Figure at 0x1d18158d4a8>"
      ]
     },
     "metadata": {},
     "output_type": "display_data"
    }
   ],
   "source": [
    "shape_of_you = analyze_top_songs[analyze_top_songs['Track Name'] == 'Shape of You']\n",
    "shape_of_you = shape_of_you.set_index('Date')\n",
    "shape_of_you = shape_of_you[['Streams','Track Name']]\n",
    "shape_of_you.plot(title='Shape of You Streams Over Time',figsize=(14,8), grid=False)"
   ]
  },
  {
   "cell_type": "code",
   "execution_count": 73,
   "metadata": {},
   "outputs": [
    {
     "data": {
      "text/plain": [
       "<matplotlib.axes._subplots.AxesSubplot at 0x1d1818dddd8>"
      ]
     },
     "execution_count": 73,
     "metadata": {},
     "output_type": "execute_result"
    },
    {
     "data": {
      "image/png": "[encoded data removed]",
      "text/plain": [
       "<matplotlib.figure.Figure at 0x1d1803e1198>"
      ]
     },
     "metadata": {},
     "output_type": "display_data"
    }
   ],
   "source": [
    "despacito = analyze_top_songs[analyze_top_songs['Track Name'] == 'Despacito - Remix']\n",
    "despacito = despacito.set_index('Date')\n",
    "despacito = despacito[['Streams', 'Track Name']]\n",
    "despacito.plot(title='Despacito Remix Streams Over Time', figsize=(16,10), grid=False)"
   ]
  },
  {
   "cell_type": "code",
   "execution_count": 74,
   "metadata": {},
   "outputs": [
    {
     "data": {
      "text/plain": [
       "<matplotlib.axes._subplots.AxesSubplot at 0x1d1817ebc18>"
      ]
     },
     "execution_count": 74,
     "metadata": {},
     "output_type": "execute_result"
    },
    {
     "data": {
      "image/png": "[encoded data removed]",
      "text/plain": [
       "<matplotlib.figure.Figure at 0x1d180194e10>"
      ]
     },
     "metadata": {},
     "output_type": "display_data"
    }
   ],
   "source": [
    "#Despacito (Featuring Daddy Yankee)\n",
    "#Song with the highest streams on a single day\n",
    "despacito_original= analyze_top_songs[analyze_top_songs['Track Name'] == 'Despacito (Featuring Daddy Yankee)']\n",
    "despacito_original = despacito_original.set_index('Date')\n",
    "despacito_original = despacito_original[['Streams', 'Track Name']]\n",
    "despacito_original.plot(title='Despacito (Featuring Daddy Yankee Streams Over Time)', figsize=(16,10), grid=False)"
   ]
  },
  {
   "cell_type": "code",
   "execution_count": 75,
   "metadata": {},
   "outputs": [],
   "source": [
    "#filter the 2018 data\n",
    "#make copy our data\n",
    "df_copy = df.copy()"
   ]
  },
  {
   "cell_type": "code",
   "execution_count": 76,
   "metadata": {},
   "outputs": [],
   "source": [
    "#set the 'Date' column as the index"
   ]
  },
  {
   "cell_type": "code",
   "execution_count": 77,
   "metadata": {},
   "outputs": [],
   "source": [
    "df_copy.set_index('Date', inplace=True, drop=True)"
   ]
  },
  {
   "cell_type": "code",
   "execution_count": 78,
   "metadata": {},
   "outputs": [],
   "source": [
    "df_2018 = df_copy[df_copy.index.year == 2018]"
   ]
  },
  {
   "cell_type": "code",
   "execution_count": 79,
   "metadata": {},
   "outputs": [
    {
     "name": "stdout",
     "output_type": "stream",
     "text": [
      "<class 'pandas.core.frame.DataFrame'>\n",
      "DatetimeIndex: 84711 entries, 2018-01-01 to 2018-01-09\n",
      "Data columns (total 6 columns):\n",
      "Position      84711 non-null int64\n",
      "Track Name    84711 non-null object\n",
      "Artist        84711 non-null object\n",
      "Streams       84711 non-null int64\n",
      "URL           84711 non-null object\n",
      "Region        84711 non-null object\n",
      "dtypes: int64(2), object(4)\n",
      "memory usage: 4.5+ MB\n"
     ]
    }
   ],
   "source": [
    "df_2018.info()"
   ]
  },
  {
   "cell_type": "code",
   "execution_count": 80,
   "metadata": {},
   "outputs": [
    {
     "data": {
      "text/html": [
       "<div>\n",
       "<style>\n",
       "    .dataframe thead tr:only-child th {\n",
       "        text-align: right;\n",
       "    }\n",
       "\n",
       "    .dataframe thead th {\n",
       "        text-align: left;\n",
       "    }\n",
       "\n",
       "    .dataframe tbody tr th {\n",
       "        vertical-align: top;\n",
       "    }\n",
       "</style>\n",
       "<table border=\"1\" class=\"dataframe\">\n",
       "  <thead>\n",
       "    <tr style=\"text-align: right;\">\n",
       "      <th></th>\n",
       "      <th>Position</th>\n",
       "      <th>Track Name</th>\n",
       "      <th>Artist</th>\n",
       "      <th>Streams</th>\n",
       "      <th>URL</th>\n",
       "      <th>Region</th>\n",
       "    </tr>\n",
       "    <tr>\n",
       "      <th>Date</th>\n",
       "      <th></th>\n",
       "      <th></th>\n",
       "      <th></th>\n",
       "      <th></th>\n",
       "      <th></th>\n",
       "      <th></th>\n",
       "    </tr>\n",
       "  </thead>\n",
       "  <tbody>\n",
       "    <tr>\n",
       "      <th>2018-01-01</th>\n",
       "      <td>1</td>\n",
       "      <td>Échame La Culpa</td>\n",
       "      <td>Luis Fonsi</td>\n",
       "      <td>26459</td>\n",
       "      <td>https://open.spotify.com/track/1zsG4eaZmkA1dvj...</td>\n",
       "      <td>ec</td>\n",
       "    </tr>\n",
       "    <tr>\n",
       "      <th>2018-01-01</th>\n",
       "      <td>2</td>\n",
       "      <td>Corazón</td>\n",
       "      <td>Maluma</td>\n",
       "      <td>25743</td>\n",
       "      <td>https://open.spotify.com/track/4lESS6vuruP6a79...</td>\n",
       "      <td>ec</td>\n",
       "    </tr>\n",
       "    <tr>\n",
       "      <th>2018-01-01</th>\n",
       "      <td>3</td>\n",
       "      <td>Déjala Que Vuelva (feat. Manuel Turizo)</td>\n",
       "      <td>Piso 21</td>\n",
       "      <td>24315</td>\n",
       "      <td>https://open.spotify.com/track/33bnxcjePIkcmNj...</td>\n",
       "      <td>ec</td>\n",
       "    </tr>\n",
       "    <tr>\n",
       "      <th>2018-01-01</th>\n",
       "      <td>4</td>\n",
       "      <td>Criminal</td>\n",
       "      <td>Natti Natasha</td>\n",
       "      <td>22060</td>\n",
       "      <td>https://open.spotify.com/track/6Za3190Sbw39BBC...</td>\n",
       "      <td>ec</td>\n",
       "    </tr>\n",
       "  </tbody>\n",
       "</table>\n",
       "</div>"
      ],
      "text/plain": [
       "            Position                               Track Name         Artist  \\\n",
       "Date                                                                           \n",
       "2018-01-01         1                          Échame La Culpa     Luis Fonsi   \n",
       "2018-01-01         2                                  Corazón         Maluma   \n",
       "2018-01-01         3  Déjala Que Vuelva (feat. Manuel Turizo)        Piso 21   \n",
       "2018-01-01         4                                 Criminal  Natti Natasha   \n",
       "\n",
       "            Streams                                                URL Region  \n",
       "Date                                                                           \n",
       "2018-01-01    26459  https://open.spotify.com/track/1zsG4eaZmkA1dvj...     ec  \n",
       "2018-01-01    25743  https://open.spotify.com/track/4lESS6vuruP6a79...     ec  \n",
       "2018-01-01    24315  https://open.spotify.com/track/33bnxcjePIkcmNj...     ec  \n",
       "2018-01-01    22060  https://open.spotify.com/track/6Za3190Sbw39BBC...     ec  "
      ]
     },
     "execution_count": 80,
     "metadata": {},
     "output_type": "execute_result"
    }
   ],
   "source": [
    "df_2018[:4]"
   ]
  },
  {
   "cell_type": "code",
   "execution_count": 81,
   "metadata": {},
   "outputs": [],
   "source": [
    "#get the top 2018 songs"
   ]
  },
  {
   "cell_type": "code",
   "execution_count": 82,
   "metadata": {},
   "outputs": [],
   "source": [
    "top_2018_songs = df_2018['Track Name'].value_counts()[:10]"
   ]
  },
  {
   "cell_type": "code",
   "execution_count": 83,
   "metadata": {},
   "outputs": [
    {
     "data": {
      "text/plain": [
       "Havana                                 475\n",
       "Perfect                                466\n",
       "Gucci Gang                             466\n",
       "New Rules                              466\n",
       "Wolves                                 466\n",
       "What Lovers Do (feat. SZA)             466\n",
       "rockstar                               466\n",
       "Shape of You                           464\n",
       "Dusk Till Dawn - Radio Edit            462\n",
       "Perfect Duet (Ed Sheeran & Beyoncé)    461\n",
       "Name: Track Name, dtype: int64"
      ]
     },
     "execution_count": 83,
     "metadata": {},
     "output_type": "execute_result"
    }
   ],
   "source": [
    "top_2018_songs"
   ]
  },
  {
   "cell_type": "code",
   "execution_count": 84,
   "metadata": {},
   "outputs": [],
   "source": [
    "#get the top 10 regions that havethe most streams"
   ]
  },
  {
   "cell_type": "code",
   "execution_count": 85,
   "metadata": {},
   "outputs": [
    {
     "data": {
      "text/plain": [
       "Region\n",
       "global    76852243776\n",
       "us        26384680151\n",
       "gb         7185860296\n",
       "br         6890194505\n",
       "mx         6344670992\n",
       "de         6072757512\n",
       "es         3754247012\n",
       "nl         3467630881\n",
       "au         3372128479\n",
       "se         3367838798\n",
       "Name: Streams, dtype: int64"
      ]
     },
     "execution_count": 85,
     "metadata": {},
     "output_type": "execute_result"
    }
   ],
   "source": [
    "streams_by_region = df.groupby('Region')['Streams'].sum().sort_values(ascending=False)[:10]\n",
    "streams_by_region"
   ]
  },
  {
   "cell_type": "code",
   "execution_count": 86,
   "metadata": {},
   "outputs": [
    {
     "data": {
      "text/plain": [
       "<matplotlib.axes._subplots.AxesSubplot at 0x1d18162d908>"
      ]
     },
     "execution_count": 86,
     "metadata": {},
     "output_type": "execute_result"
    },
    {
     "data": {
      "image/png": "[encoded data removed]",
      "text/plain": [
       "<matplotlib.figure.Figure at 0x1d181896898>"
      ]
     },
     "metadata": {},
     "output_type": "display_data"
    }
   ],
   "source": [
    "sns.barplot(x=streams_by_region.values, y=streams_by_region.index)"
   ]
  },
  {
   "cell_type": "code",
   "execution_count": 87,
   "metadata": {},
   "outputs": [],
   "source": [
    "#add a month column"
   ]
  },
  {
   "cell_type": "code",
   "execution_count": 88,
   "metadata": {},
   "outputs": [],
   "source": [
    "df['month'] = df['Date'].dt.month"
   ]
  },
  {
   "cell_type": "code",
   "execution_count": 89,
   "metadata": {},
   "outputs": [
    {
     "data": {
      "text/plain": [
       "Index(['Position', 'Track Name', 'Artist', 'Streams', 'URL', 'Date', 'Region',\n",
       "       'month'],\n",
       "      dtype='object')"
      ]
     },
     "execution_count": 89,
     "metadata": {},
     "output_type": "execute_result"
    }
   ],
   "source": [
    "df.columns"
   ]
  },
  {
   "cell_type": "code",
   "execution_count": 90,
   "metadata": {},
   "outputs": [],
   "source": [
    "df = df.set_index('Date', drop=True,)\n",
    "df_2017 = df[df.index.year == 2017]"
   ]
  },
  {
   "cell_type": "code",
   "execution_count": 91,
   "metadata": {},
   "outputs": [],
   "source": [
    "#get streams based on months"
   ]
  },
  {
   "cell_type": "code",
   "execution_count": 92,
   "metadata": {},
   "outputs": [],
   "source": [
    "#map int dates into date in full"
   ]
  },
  {
   "cell_type": "code",
   "execution_count": 93,
   "metadata": {},
   "outputs": [
    {
     "name": "stderr",
     "output_type": "stream",
     "text": [
      "c:\\python35\\lib\\site-packages\\pandas\\core\\generic.py:3110: SettingWithCopyWarning: \n",
      "A value is trying to be set on a copy of a slice from a DataFrame.\n",
      "Try using .loc[row_indexer,col_indexer] = value instead\n",
      "\n",
      "See the caveats in the documentation: http://pandas.pydata.org/pandas-docs/stable/indexing.html#indexing-view-versus-copy\n",
      "  self[name] = value\n"
     ]
    }
   ],
   "source": [
    "mappings ={1:'Jan', 2:'Feb',3:'Mar', 4:'Apr',5:'May', 6:'Jun',7:'Jul',8:'Aug',9:'Sep', 10:'Oct',11:'Nov',\n",
    "    12:'Dec'   \n",
    "}\n",
    "f = lambda x: mappings.get(x,x)\n",
    "df_2017.month = df_2017.month.apply(f)"
   ]
  },
  {
   "cell_type": "code",
   "execution_count": 94,
   "metadata": {},
   "outputs": [
    {
     "data": {
      "text/plain": [
       "month\n",
       "Dec    16387348074\n",
       "Mar    15547019052\n",
       "Oct    15063803541\n",
       "Jul    14865263239\n",
       "Sep    14820585163\n",
       "Nov    14682201305\n",
       "Aug    14619134413\n",
       "Apr    14595379550\n",
       "May    14518200794\n",
       "Jun    14236839633\n",
       "Jan    12660800375\n",
       "Feb    12286996626\n",
       "Name: Streams, dtype: int64"
      ]
     },
     "execution_count": 94,
     "metadata": {},
     "output_type": "execute_result"
    }
   ],
   "source": [
    "streams_based_on_months_2017 = df_2017.groupby('month')['Streams'].sum()\n",
    "sorted_streams_based_on_months_2017 = streams_based_on_months_2017.sort_values(ascending=False)\n",
    "sorted_streams_based_on_months_2017"
   ]
  },
  {
   "cell_type": "code",
   "execution_count": 95,
   "metadata": {},
   "outputs": [
    {
     "data": {
      "text/plain": [
       "<matplotlib.axes._subplots.AxesSubplot at 0x1d19ccba9e8>"
      ]
     },
     "execution_count": 95,
     "metadata": {},
     "output_type": "execute_result"
    },
    {
     "data": {
      "image/png": "[encoded data removed]",
      "text/plain": [
       "<matplotlib.figure.Figure at 0x1d183bc77b8>"
      ]
     },
     "metadata": {},
     "output_type": "display_data"
    }
   ],
   "source": [
    "plt.title('Streams based on months in 2017')\n",
    "plt.xlabel('Streams')\n",
    "sns.barplot(x=sorted_streams_based_on_months_2017.values, y=sorted_streams_based_on_months_2017.index)"
   ]
  },
  {
   "cell_type": "code",
   "execution_count": 96,
   "metadata": {},
   "outputs": [
    {
     "data": {
      "text/plain": [
       "Artist\n",
       "Ed Sheeran          8913973976\n",
       "Drake               4523630992\n",
       "The Chainsmokers    4292590087\n",
       "Post Malone         3700404149\n",
       "Kendrick Lamar      3570665303\n",
       "Luis Fonsi          3555514919\n",
       "J Balvin            2494735971\n",
       "Calvin Harris       2397708371\n",
       "Imagine Dragons     2322921399\n",
       "DJ Khaled           2236224259\n",
       "Name: Streams, dtype: int64"
      ]
     },
     "execution_count": 96,
     "metadata": {},
     "output_type": "execute_result"
    }
   ],
   "source": [
    "#top 10 artists with the most streams\n",
    "df.groupby('Artist')['Streams'].sum().sort_values(ascending=False)[:10]"
   ]
  },
  {
   "cell_type": "code",
   "execution_count": 97,
   "metadata": {},
   "outputs": [
    {
     "data": {
      "text/plain": [
       "Luis Fonsi        4085\n",
       "Ed Sheeran        3780\n",
       "Post Malone       1737\n",
       "J Balvin          1195\n",
       "Maluma             900\n",
       "Natti Natasha      416\n",
       "Bad Bunny          311\n",
       "Taylor Swift       304\n",
       "Danny Ocean        291\n",
       "Camila Cabello     272\n",
       "Name: Artist, dtype: int64"
      ]
     },
     "execution_count": 97,
     "metadata": {},
     "output_type": "execute_result"
    }
   ],
   "source": [
    "#top 10 artists whose song(s) became position 1 the most times\n",
    "top_10_artists_by_songs_position =df[df['Position'] == 1]['Artist'].value_counts()[:10]\n",
    "top_10_artists_by_songs_position "
   ]
  },
  {
   "cell_type": "code",
   "execution_count": 98,
   "metadata": {},
   "outputs": [
    {
     "data": {
      "text/plain": [
       "['Luis Fonsi',\n",
       " 'Ed Sheeran',\n",
       " 'Post Malone',\n",
       " 'J Balvin',\n",
       " 'Maluma',\n",
       " 'Natti Natasha',\n",
       " 'Bad Bunny',\n",
       " 'Taylor Swift',\n",
       " 'Danny Ocean',\n",
       " 'Camila Cabello']"
      ]
     },
     "execution_count": 98,
     "metadata": {},
     "output_type": "execute_result"
    }
   ],
   "source": [
    "top_artists = list(top_10_artists_by_songs_position.index)\n",
    "top_artists"
   ]
  },
  {
   "cell_type": "code",
   "execution_count": 99,
   "metadata": {},
   "outputs": [],
   "source": [
    "#get the number of songs this artist had\n",
    "def get_number_of_songs():\n",
    "    artist_num_songs = []\n",
    "    for i in range(len(top_artists)):\n",
    "        artist = top_artists[i]\n",
    "        number_of_songs = len(df[df.Artist == artist]['Track Name'].unique())\n",
    "        artist_num_songs.append(artist+' : '+str(number_of_songs))\n",
    "    return artist_num_songs"
   ]
  },
  {
   "cell_type": "code",
   "execution_count": 100,
   "metadata": {},
   "outputs": [
    {
     "data": {
      "text/plain": [
       "['Luis Fonsi : 5',\n",
       " 'Ed Sheeran : 60',\n",
       " 'Post Malone : 12',\n",
       " 'J Balvin : 15',\n",
       " 'Maluma : 18',\n",
       " 'Natti Natasha : 1',\n",
       " 'Bad Bunny : 16',\n",
       " 'Taylor Swift : 33',\n",
       " 'Danny Ocean : 4',\n",
       " 'Camila Cabello : 9']"
      ]
     },
     "execution_count": 100,
     "metadata": {},
     "output_type": "execute_result"
    }
   ],
   "source": [
    "get_number_of_songs()"
   ]
  },
  {
   "cell_type": "code",
   "execution_count": 101,
   "metadata": {},
   "outputs": [],
   "source": [
    "#get the songs of this top artists that have became position 1"
   ]
  },
  {
   "cell_type": "code",
   "execution_count": 102,
   "metadata": {},
   "outputs": [],
   "source": [
    "def get_top_songs_of_the_top_artists():\n",
    "    top_songs_of_the_top_artists = []\n",
    "    for i in range(len(top_artists)):\n",
    "        artist = top_artists[i]\n",
    "        songs = df[(df.Artist == artist) & (df.Position == 1)]['Track Name'].unique()\n",
    "        count = df[(df.Artist == artist) & (df.Position == 1)]['Track Name'].value_counts()\n",
    "        songs_count = list(zip(songs,count))\n",
    "        top_songs_of_the_top_artists.append((artist,songs_count))      \n",
    "    return top_songs_of_the_top_artists"
   ]
  },
  {
   "cell_type": "code",
   "execution_count": 103,
   "metadata": {},
   "outputs": [],
   "source": [
    "top_songs_of_top_artist = get_top_songs_of_the_top_artists()"
   ]
  },
  {
   "cell_type": "code",
   "execution_count": 104,
   "metadata": {},
   "outputs": [
    {
     "data": {
      "text/plain": [
       "[('Luis Fonsi',\n",
       "  [('Despacito (Featuring Daddy Yankee)', 2342),\n",
       "   ('Despacito - Remix', 1560),\n",
       "   ('Échame La Culpa', 183)]),\n",
       " ('Ed Sheeran',\n",
       "  [('Shape of You', 3639),\n",
       "   ('Perfect', 76),\n",
       "   ('Castle on the Hill', 46),\n",
       "   ('Perfect Duet (Ed Sheeran & Beyoncé)', 15),\n",
       "   ('Galway Girl', 4)]),\n",
       " ('Post Malone', [('rockstar', 1690), ('I Fall Apart', 47)]),\n",
       " ('J Balvin', [('Mi Gente', 1180), ('Bonita', 15)]),\n",
       " ('Maluma', [('Felices los 4', 818), ('Corazón', 82)]),\n",
       " ('Natti Natasha', [('Criminal', 416)]),\n",
       " ('Bad Bunny', [('Sensualidad', 289), ('Soy Peor', 18), ('Chambea', 4)]),\n",
       " ('Taylor Swift',\n",
       "  [('Look What You Made Me Do', 299),\n",
       "   ('...Ready For It?', 3),\n",
       "   ('Gorgeous', 2)]),\n",
       " ('Danny Ocean', [('Me Rehúso', 291)]),\n",
       " ('Camila Cabello', [('Havana', 272)])]"
      ]
     },
     "execution_count": 104,
     "metadata": {},
     "output_type": "execute_result"
    }
   ],
   "source": [
    "top_songs_of_top_artist"
   ]
  },
  {
   "cell_type": "code",
   "execution_count": 105,
   "metadata": {},
   "outputs": [
    {
     "data": {
      "text/plain": [
       "('Luis Fonsi',\n",
       " [('Despacito (Featuring Daddy Yankee)', 2342),\n",
       "  ('Despacito - Remix', 1560),\n",
       "  ('Échame La Culpa', 183)])"
      ]
     },
     "execution_count": 105,
     "metadata": {},
     "output_type": "execute_result"
    }
   ],
   "source": [
    "#this in the format of \n",
    "#artist,(Track Name,count of number of times in position1)\n",
    "#in the below output artist:'Luis Fonsi'(Track Name:'Despacito (Featuring Daddy Yankee)', numberof times in pos 1:'2342')\n",
    "top_songs_of_top_artist[0]"
   ]
  },
  {
   "cell_type": "code",
   "execution_count": null,
   "metadata": {},
   "outputs": [],
   "source": []
  },
  {
   "cell_type": "code",
   "execution_count": 96,
   "metadata": {},
   "outputs": [],
   "source": []
  },
  {
   "cell_type": "code",
   "execution_count": null,
   "metadata": {},
   "outputs": [],
   "source": []
  },
  {
   "cell_type": "code",
   "execution_count": null,
   "metadata": {},
   "outputs": [],
   "source": []
  }
 ],
 "metadata": {
  "kernelspec": {
   "display_name": "Python 3",
   "language": "python",
   "name": "python3"
  },
  "language_info": {
   "codemirror_mode": {
    "name": "ipython",
    "version": 3
   },
   "file_extension": ".py",
   "mimetype": "text/x-python",
   "name": "python",
   "nbconvert_exporter": "python",
   "pygments_lexer": "ipython3",
   "version": "3.5.0"
  }
 },
 "nbformat": 4,
 "nbformat_minor": 2
}
